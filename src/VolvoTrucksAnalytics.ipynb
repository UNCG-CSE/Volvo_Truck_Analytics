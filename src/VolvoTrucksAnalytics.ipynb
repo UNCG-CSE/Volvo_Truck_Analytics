{
 "cells": [
  {
   "cell_type": "markdown",
   "metadata": {},
   "source": [
    "# Volvo Trucks Analytics"
   ]
  },
  {
   "cell_type": "markdown",
   "metadata": {},
   "source": [
    "Imports and global variables go here"
   ]
  },
  {
   "cell_type": "code",
   "execution_count": 108,
   "metadata": {},
   "outputs": [],
   "source": [
    "import pandas as pd\n",
    "import numpy as np\n",
    "import csv\n",
    "\n",
    "#The two truck data set paths are set here.\n",
    "truck1csv = \"../data/trucks/truck1.csv\"\n",
    "truck2csv = \"../data/trucks/truck2.csv\"\n",
    "rowNaNThresholdPercent = 75"
    "\n",
    "#Number of records desired from the data set.\n",
    "numberOfRecords = 100\n",
    "\n",
    "#The column conversion dictionaries are defined here.\n",
    "#(!) Consider moving to the utility folder to improve readability. (!)\n",
    "truck1dict = {\n",
    "    'Time':'Time (s)',\n",
    "    '1730_CH9_ AutomaticStartStop':'1730 Automatic Start & Stop (V)',\n",
    "    '1730_CH10_Truck_Batteries':'1730 Batteries (V)',\n",
    "    '4649_Ch1_Alternator_250A':'4649 Alternator (A)',\n",
    "    '4649_Ch2_BattOut_100A':'4649 Battery Out (A)',\n",
    "    '4649_Ch3_Trailer_50A':'4649 Trailer (A)',\n",
    "    '4649_Ch4_Inverter_100A':'4649 Inverter (A)',\n",
    "    '4649_Ch5_Fridge_50A':'4649 Fridge (A)',\n",
    "    '4649_Ch6_200A_APU_BatteryBank':'4649 Battery Bank (A)',\n",
    "    '4649_Ch7_200A_BatterySeparator':'4649 Battery Separator (A)',\n",
    "    '4649_Ch8_APU_BatteryVoltage':'4649 Battery Voltage (V)',\n",
    "    'ActualEnginePercentTorque':'Engine Output Torque (%)',\n",
    "    'ActualEnginePercentTorqueHiRes':'HiRes Engine Output Torque (%)',\n",
    "    'AmbientAirTemperature_V':'Outside Air Temperature (C)',\n",
    "    'asu_UreaTankTemp':'Urea Tank Temperature (C)',\n",
    "    'BarometricPressure_BB1_X_E':'Outside Air Pressure (kPa)',\n",
    "    'BoostPressure':'Boost Pressure (kPa)',\n",
    "    'CruiseCtrlSetSpeed':'Cruise Control Speed (km/hr)',\n",
    "    'DrvrDemandEngPercentTorque':'Driver Requested Torque (%)',\n",
    "    'EngDemandPercentTorque':'Engine Requested Torque (%)',\n",
    "    'EngDslPrtclateFilterIntakePress':'Exhaust Back Pressure (kPa)',\n",
    "    'EngExhaustGasTemp':'Temperature of Engine Byproducts (C)',\n",
    "    'EngineAirIntakeTemp_BB1_X_E':'Temperature of Air Entering Vehicle (C)',\n",
    "    'EngineCoolantTemp_stat':'Temperature of Engine Liquid (C)',\n",
    "    'EngineKeyPosition':'Key Position',\n",
    "    'EngineOilLevel':'Oil Level (%)',\n",
    "    'EngineOilPressure':'Oil Pressure (kPa)',\n",
    "    'EngineOilTemperature':'Oil Temperature (C)',\n",
    "    'EnginePercentLoadAtCurrentSpd':'Engine Load at Current Speed (%)',\n",
    "    'EngineSpeed':'Engine Speed (rpm)',\n",
    "    'EngIntakeManifold1Press':'Pressure of Air Intake Manifold (kPa)',\n",
    "    'EngIntakeManifold1Temp':'Temperature of Air Intake Manifold (C)',\n",
    "    'SteeringWheelAngle1':'Steering Wheel Angle (radian)',\n",
    "    'TotalVehicleDistanceHighRes':'Total Distance (m)',\n",
    "    'TransmissionOilTemp':'Transmission Lube Temperature (C)',\n",
    "    'TransOilLevel':'Transmission Lube Level (%)',\n",
    "    'TransOilPress':'Transmission Lube Pressure (kPa)',\n",
    "    'tse_TurboSpeed':'Turbo Speed (rpm)',\n",
    "    'VehicleSpeed':'Vehicle Speed (km/hr)',\n",
    "    'VehicleWeightVP15':'Vehicle Weight (kg)',\n",
    "    'WheelBasedVehicleSpeed':'Vehicle Speed (Wheel-Based, km/hr)',\n",
    "    'CPU load':'CPU Load (%)',\n",
    "    'UTC hour':'UTC Hour',\n",
    "    'UTC minute':'UTC Minute',\n",
    "    'UTC second':'UTC Second',\n",
    "    'UTC month':'UTC Month',\n",
    "    'UTC day':'UTC Day',\n",
    "    'UTC year':'UTC Year',\n",
    "    'GPS altitude':'Altitude(m)',\n",
    "    'GPS speed':'Speed (km/hr)' \n",
    "}\n",
    "\n",
    "truck2dict = {\n",
    "    'Time':'Time (s)',\n",
    "    'C_1115_1_Alternator_250A':'1115 Alternator (A)',\n",
    "    'C_1115_2_BattOut_100A':'1115 Battery Out (A)',\n",
    "    'C_1115_3_Fridge_20A':'1115 Fridge (A)',\n",
    "    'C_1115_4_Trailer_50A':'1115 Trailer (A)',\n",
    "    'C_1115_5_Inventer_100A':'1115 Inverter (A)',\n",
    "    'TotalVehicleDistanceHighRes':'Total Distance (m)',\n",
    "    'EngineSpeed':'Engine Speed (rpm)',\n",
    "    'WheelBasedVehicleSpeed':'Vehicle Speed (Wheel-Based, km/hr)',\n",
    "    'asu_UreaTankTemp':'Urea Tank Temperature (C)',\n",
    "    'EngineKeyPosition':'Key Position',\n",
    "    'SteeringWheelAngle1':'Steering Wheel Angle',\n",
    "    'BarometricPressure_BB1_X_E':'Outside Air Pressure (kPa)',\n",
    "    'EngineAirIntakeTemp_BB1_X_E':'Temperature of Air Entering Vehicle (C)',\n",
    "    'ActualEnginePercentTorque':'Engine Output Torque (%)',\n",
    "    'ActualEnginePercentTorqueHiRes':'Engine Output Torque HiRes (%)',\n",
    "    'DrvrDemandEngPercentTorque':'Driver Requested Torque (%)',\n",
    "    'EngDemandPercentTorque':'Engine Requested Torque (%)',\n",
    "    'EnginePercentLoadAtCurrentSpd':'Engine Load at Current Speed (%)',\n",
    "    'EngineOilLevel':'Oil Level (%)',\n",
    "    'EngineOilPressure':'Oil Pressure (kPa)',\n",
    "    'EngineCoolantTemp_stat':'Coolant Temperature (C)',\n",
    "    'EngineOilTemperature':'Oil Temperature (C)',\n",
    "    'EngDslPrtclateFilterIntakePress':'Exhaust Back Pressure (kPa)',\n",
    "    'EngExhaustGasTemp':'Temperature of Engine Byproducts (C)',\n",
    "    'EngIntakeManifold1Press':'Pressure of Intake Manifold (kPa)',\n",
    "    'EngIntakeManifold1Temp':'Temperature of Pre-Combustion Air (C)',\n",
    "    'TransmissionOilTemp':'Transmission Lube Temperature (C)',\n",
    "    'TransOilLevel':'Transmission Lube Level (%)',\n",
    "    'TransOilPress':'Transmission Lube Pressure (kPa)',\n",
    "    'RoadInclinationVP15':'Road Inclination (%)',\n",
    "    'VehicleWeightVP15':'Vehicle Weight (kg)',\n",
    "    'AmbientAirTemperature_V':'Outside Air Temperature (C)',\n",
    "    'CruiseCtrlSetSpeed':'Cruise Control Speed (km/hr)',\n",
    "    'VehicleSpeed':'Vehicle Speed (km/hr)',\n",
    "    'BoostPressure':'Boost Pressure (kPa)',\n",
    "    'tse_TurboSpeed':'Turbo Speed (rpm)',\n",
    "    'CPU load':'CPU Load (%)',\n",
    "    'UTC hour':'UTC Hour',\n",
    "    'UTC minute':'UTC Minute',\n",
    "    'UTC second':'UTC Second',\n",
    "    'UTC month':'UTC Month',\n",
    "    'UTC day':'UTC Day',\n",
    "    'UTC year':'UTC Year',\n",
    "    'GPS altitude':'Altitude (m)',\n",
    "    'GPS speed':'Speed (km/hr)'\n",
    "}"
   ]
  },
  {
   "cell_type": "raw",
   "metadata": {},
   "source": [
    "Define all cleaning methods here"
   ]
  },
  {
   "cell_type": "code",
   "execution_count": 106,
   "metadata": {},
   "outputs": [],
   "source": [
    "def readCsv(truck, records):\n",
    "    return pd.read_csv(truck, nrows = records, header = [0])\n",
    "    \n",
    "def cullUtcCols(truckData):\n",
    "    noUTC = truckData.drop([\"UTC hour\", \"UTC minute\", \"UTC second\", \"UTC month\", \"UTC day\", \"UTC year\"], axis = 1)\n",
    "    return noUTC\n",
    "\n",
    "def removeUnnecessaryRows(dataFrame): \n",
    "    '''Finds threshold of Non-NA type using percentage and deletes rows.'''\n",
    "    lenght = len(dataFrame.columns)\n",
    "    TValue = (rowNaNThresholdPercent/100) * lenght\n",
    "    print(\"Threshold value : \" + str(int(TValue)))\n",
    "    return dataFrame.dropna(thresh=int(TValue))"
    "def renameColumns(dataFrame, dictionary):\n",
    "    \"\"\"Takes a DataFrame and a conversion dictionary as parameters; uses the dictionary to rename all matching columns then returns the changed DataFrame.\"\"\"\n",
    "    return dataFrame.rename(columns = dictionary)"
   ]
  },
  {
   "cell_type": "markdown",
   "metadata": {},
   "source": [
    "Cleaning of Truck 1 Data starts here"
   ]
  },
  {
   "cell_type": "code",
   "execution_count": 107,
   "metadata": {},
   "outputs": [
    {
     "name": "stdout",
     "output_type": "stream",
     "text": [
      "Threshold value : 33\n"
     ]
    },
    {
     "data": {
      "text/plain": [
       "(13, 45)"
      ]
     },
     "execution_count": 107,
     "metadata": {},
     "output_type": "execute_result"
    }
   ],
   "source": [
    "truck1data = readCsv(truck1csv, numberOfRecords)\n",
    "truck1data = cullUtcCols(truck1data)\n",
    "truck1data = removeUnnecessaryRows(truck1data)\n",
    "truck1data = renameColumns(truck1data, truck1dict)\n",
    "\n",
    "#Look at first 10 records in the DataFrame. Note: this does not work while the shape method below is uncommented.\n",
    "#truck1data.head(10)\n",
    "\n",
    "# After cleaning, check the shape of the dataframe\n",
    "truck1data.shape"
   ]
  },
  {
   "cell_type": "markdown",
   "metadata": {},
   "source": [
    "Cleaning of Truck 2 Data starts here"
   ]
  },
  {
   "cell_type": "code",
   "execution_count": null,
   "metadata": {},
   "outputs": [],
   "source": [
    "truck2data = readCsv(truck2csv, numberOfRecords)\n",
    "truck2data = cullUtcCols(truck2data)\n",
    "truck2data = removeUnnecessaryRows(truck2data)\n",
    "truck2data = renameColumns(truck2data, truck2dict)\n",
    "\n",
    "#Look at first 10 records in the DataFrame. Note: this does not work while the shape method below is uncommented.\n",
    "#truck2data.head(10)\n",
    "\n",
    "# After cleaning, check the shape of the dataframe\n",
    "truck2data.shape"
   ]
  }
 ],
 "metadata": {
  "kernelspec": {
   "display_name": "Python 3",
   "language": "python",
   "name": "python3"
  },
  "language_info": {
   "codemirror_mode": {
    "name": "ipython",
    "version": 3
   },
   "file_extension": ".py",
   "mimetype": "text/x-python",
   "name": "python",
   "nbconvert_exporter": "python",
   "pygments_lexer": "ipython3",
   "version": "3.7.4"
  }
 },
 "nbformat": 4,
 "nbformat_minor": 4
}
